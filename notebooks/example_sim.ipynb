{
 "cells": [
  {
   "cell_type": "code",
   "execution_count": null,
   "id": "6a05778f",
   "metadata": {},
   "outputs": [],
   "source": [
    "import croissant as cro\n",
    "\n",
    "from astropy.units import s as seconds\n",
    "import healpy as hp\n",
    "from lunarsky import Time\n",
    "import matplotlib.pyplot as plt\n",
    "import numpy as np"
   ]
  },
  {
   "cell_type": "code",
   "execution_count": null,
   "id": "2348797a",
   "metadata": {
    "scrolled": false
   },
   "outputs": [],
   "source": [
    "# simple beam in topocentric coordinates\n",
    "lmax = 32\n",
    "freq = np.linspace(40, 80, 41)\n",
    "beam_alm = np.zeros((freq.size, hp.Alm.getsize(lmax)))\n",
    "beam = cro.Beam(beam_alm, lmax=lmax, frequencies=freq, coord=\"T\")\n",
    "\n",
    "# set (l=0, m=0) and (l=1, m=0) mode\n",
    "beam[:, 0, 0] = 30 * (freq/freq[0]) ** 2\n",
    "beam[:, 1, 0] = 10 * (freq/freq[0])**2\n",
    "\n",
    "# visualize with healpix\n",
    "nside = 64\n",
    "hp.mollview(beam.hp_map(nside)[0], title=f\"Beam at {freq[0]:.0f} MHz\")"
   ]
  },
  {
   "cell_type": "code",
   "execution_count": null,
   "id": "3be26219",
   "metadata": {},
   "outputs": [],
   "source": [
    "# we can impose a horizon like this, note that the sharp edge creates ripples since we don't have an inifinite lmax\n",
    "beam.horizon_cut()\n",
    "hp.mollview(beam.hp_map(nside)[0], title=f\"Beam at {freq[0]:.0f} MHz\")"
   ]
  },
  {
   "cell_type": "markdown",
   "id": "a5f791e5",
   "metadata": {},
   "source": [
    "We use the Global Sky Model (Zheng et al 2016) at 25 MHz as the sky model. It has a built-in interface in the sky module of croissant."
   ]
  },
  {
   "cell_type": "code",
   "execution_count": null,
   "id": "6d25d25a",
   "metadata": {},
   "outputs": [],
   "source": [
    "sky = cro.Sky.gsm(beam.frequencies, lmax=beam.lmax)\n",
    "hp.mollview(sky.hp_map(nside)[0], title=f\"Sky at {freq[0]:.0f} MHz\")"
   ]
  },
  {
   "cell_type": "code",
   "execution_count": null,
   "id": "9a5e0c5e",
   "metadata": {},
   "outputs": [],
   "source": [
    "plt.figure()\n",
    "plt.plot(sky.frequencies, np.real(sky[:, 0, 0]), label=\"Sky monopole spectrum\")\n",
    "plt.xlabel(\"Frequency [MHz]\")\n",
    "plt.ylabel(\"Temperature [K]\")\n",
    "plt.xlim(sky.frequencies.min(), sky.frequencies.max())\n",
    "plt.legend()\n",
    "plt.show()"
   ]
  },
  {
   "cell_type": "code",
   "execution_count": null,
   "id": "10ca4c8e",
   "metadata": {
    "scrolled": false
   },
   "outputs": [],
   "source": [
    "# let's do a full sidereal day on the moon\n",
    "loc = (20., -10.)\n",
    "t_start = Time(\"2022-06-02 15:43:43\")\n",
    "t_end = t_start + cro.constants.sidereal_day_moon * seconds\n",
    "sim = cro.Simulator(beam, sky, loc, t_start, world=\"moon\", t_end=t_end, N_times=300, lmax=lmax)"
   ]
  },
  {
   "cell_type": "code",
   "execution_count": null,
   "id": "a077a8e9",
   "metadata": {},
   "outputs": [],
   "source": [
    "# the simulator view of the beam and sky after moving to MCMF coordinates\n",
    "hp.mollview(sim.beam.hp_map(nside)[0], title=f\"Beam at {freq[0]:.0f} MHz\")\n",
    "hp.mollview(sim.sky.hp_map(nside)[0], title=f\"Sky at {freq[0]:.0f} MHz\")"
   ]
  },
  {
   "cell_type": "markdown",
   "id": "d991be35",
   "metadata": {},
   "source": [
    "Run the simulator!"
   ]
  },
  {
   "cell_type": "code",
   "execution_count": null,
   "id": "394a8fe8",
   "metadata": {
    "scrolled": false
   },
   "outputs": [],
   "source": [
    "# dpss mode\n",
    "sim.run(dpss=True, nterms=40)\n",
    "sim.plot(power=2.5)"
   ]
  },
  {
   "cell_type": "code",
   "execution_count": null,
   "id": "9e0b5493",
   "metadata": {},
   "outputs": [],
   "source": [
    "sim.run(dpss=False)\n",
    "sim.plot(power=2.5)"
   ]
  },
  {
   "cell_type": "code",
   "execution_count": null,
   "id": "79fb8cac",
   "metadata": {},
   "outputs": [],
   "source": [
    "plt.figure()\n",
    "plt.plot(sim.frequencies, sim.waterfall[::10].T, ls=\"--\")\n",
    "plt.xlim(sim.frequencies.min(), sim.frequencies.max())\n",
    "plt.xlabel(\"$\\\\nu$ [MHz]\")\n",
    "plt.ylabel(\"Temperature [K]\")\n",
    "plt.grid()\n",
    "plt.show()"
   ]
  },
  {
   "cell_type": "code",
   "execution_count": null,
   "id": "65f0df23",
   "metadata": {
    "scrolled": false
   },
   "outputs": [],
   "source": [
    "# Temp vs time\n",
    "fig, axs = plt.subplots(figsize=(13,5), ncols=5, sharex=True, sharey=True)\n",
    "for i, f in enumerate(sim.frequencies[::10]):\n",
    "    ax = axs.ravel()[i]\n",
    "    fidx = np.argwhere(sim.frequencies == f)[0, 0]\n",
    "    ax.plot(sim.waterfall[:, fidx] * f**2.5)\n",
    "    ax.set_title(f\"{f} MHz\")\n",
    "    ax.grid()\n",
    "plt.tight_layout()\n",
    "plt.show()"
   ]
  },
  {
   "cell_type": "markdown",
   "id": "ada1730d",
   "metadata": {},
   "source": [
    "# On Earth"
   ]
  },
  {
   "cell_type": "code",
   "execution_count": null,
   "id": "3e2b917b",
   "metadata": {},
   "outputs": [],
   "source": [
    "loc = (20., -10.)\n",
    "t_start = Time(\"2022-06-02 15:43:43\")\n",
    "t_end = t_start + cro.constants.sidereal_day_earth * seconds\n",
    "sim = cro.Simulator(beam, sky, loc, t_start, world=\"earth\", t_end=t_end, N_times=300, lmax=lmax)"
   ]
  },
  {
   "cell_type": "code",
   "execution_count": null,
   "id": "ef176681",
   "metadata": {},
   "outputs": [],
   "source": [
    "# the simulator view of the beam and sky after moving to equatorial coordinates\n",
    "hp.mollview(sim.beam.hp_map(nside)[0], title=f\"Beam at {freq[0]:.0f} MHz\")\n",
    "hp.mollview(sim.sky.hp_map(nside)[0], title=f\"Sky at {freq[0]:.0f} MHz\")"
   ]
  },
  {
   "cell_type": "code",
   "execution_count": null,
   "id": "d521d17d",
   "metadata": {},
   "outputs": [],
   "source": [
    "# dpss mode\n",
    "sim.run(dpss=True, nterms=40)\n",
    "sim.plot(power=2.5)"
   ]
  },
  {
   "cell_type": "code",
   "execution_count": null,
   "id": "f08c3db8",
   "metadata": {},
   "outputs": [],
   "source": [
    "# Temp vs time\n",
    "fig, axs = plt.subplots(figsize=(13,5), ncols=5, sharex=True, sharey=True)\n",
    "for i, f in enumerate(sim.frequencies[::10]):\n",
    "    ax = axs.ravel()[i]\n",
    "    fidx = np.argwhere(sim.frequencies == f)[0, 0]\n",
    "    ax.plot(sim.waterfall[:, fidx] * f**2.5)\n",
    "    ax.set_title(f\"{f} MHz\")\n",
    "    ax.grid()\n",
    "plt.tight_layout()\n",
    "plt.show()"
   ]
  }
 ],
 "metadata": {
  "kernelspec": {
   "display_name": "Python 3 (ipykernel)",
   "language": "python",
   "name": "python3"
  },
  "language_info": {
   "codemirror_mode": {
    "name": "ipython",
    "version": 3
   },
   "file_extension": ".py",
   "mimetype": "text/x-python",
   "name": "python",
   "nbconvert_exporter": "python",
   "pygments_lexer": "ipython3",
   "version": "3.10.6"
  }
 },
 "nbformat": 4,
 "nbformat_minor": 5
}
