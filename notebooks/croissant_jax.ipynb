{
 "cells": [
  {
   "cell_type": "code",
   "execution_count": null,
   "id": "9f3469f3-959d-4e39-8ef1-8432975e6f7f",
   "metadata": {},
   "outputs": [],
   "source": [
    "import croissant as cro\n",
    "import croissant.jax as crojax\n",
    "from functools import partial\n",
    "from healpy import get_nside, projview\n",
    "import jax\n",
    "import jax.numpy as jnp\n",
    "import lunarsky\n",
    "import matplotlib.pyplot as plt\n",
    "import s2fft"
   ]
  },
  {
   "cell_type": "code",
   "execution_count": null,
   "id": "223b215e-1342-4c0b-aa1a-cd175fe31cba",
   "metadata": {},
   "outputs": [],
   "source": [
    "# simulation parameters\n",
    "world = \"moon\"\n",
    "lmax = 179  # maximal harmonic band limit given sampling of beam, inclusive\n",
    "freq = jnp.arange(1, 51)  # 1-50 MHz\n",
    "time = lunarsky.Time(\"2025-12-01 09:00:00\")  # time at the beginning of the simulation\n",
    "loc = lunarsky.MoonLocation(lon=0, lat=-22.5)  # location of telescope\n",
    "topo = lunarsky.LunarTopo(obstime=time, location=loc) # coordinate frame of telescope\n",
    "# 240 bins in a sidereal day on the moon\n",
    "ntimes = 240\n",
    "dt = cro.constants.sidereal_day[world] / ntimes\n",
    "phases = crojax.simulator.rot_alm_z(lmax, ntimes, dt, world=world)\n",
    "\n",
    "# get the euler angles and wigner d functions for the coordinate transforms\n",
    "eul_topo, dl_topo = crojax.rotations.generate_euler_dl(lmax, topo, \"mcmf\")  # beam transform, from topocentric to mcmf\n",
    "eul_gal, dl_gal = crojax.rotations.generate_euler_dl(lmax, \"galactic\", \"mcmf\")  # sky transform, from galactic to mcmf\n",
    "\n",
    "topo2mcmf = partial(s2fft.utils.rotation.rotate_flms, L=lmax+1, rotation=eul_topo, dl_array=dl_topo)\n",
    "gal2mcmf = partial(s2fft.utils.rotation.rotate_flms, L=lmax+1, rotation=eul_gal, dl_array=dl_gal)"
   ]
  },
  {
   "cell_type": "code",
   "execution_count": null,
   "id": "f2e8e12b-fbd7-4c25-9a97-39d863b3820e",
   "metadata": {},
   "outputs": [],
   "source": [
    "beam = jnp.load(\"beam.npy\")\n",
    "plt.figure()\n",
    "plt.imshow(beam[30], aspect=\"auto\")\n",
    "plt.xlabel(\"$\\\\phi$ [deg]\")\n",
    "plt.ylabel(\"$\\\\theta$ [deg]\")\n",
    "plt.colorbar()\n",
    "plt.show()"
   ]
  },
  {
   "cell_type": "code",
   "execution_count": null,
   "id": "1cdb03e4-1bc0-491b-90d2-87dd8832745c",
   "metadata": {},
   "outputs": [],
   "source": [
    "# define the map2alm transform for the beam\n",
    "beam2alm = partial(s2fft.forward_jax, L=lmax+1, spin=0, nside=None, sampling=\"mwss\", reality=True)\n",
    "# use vmap t vectorize frequency axis\n",
    "beam_alm = jax.vmap(beam2alm)(beam)\n",
    "\n",
    "# normalization for visibilities\n",
    "norm = crojax.alm.total_power(beam_alm, lmax)"
   ]
  },
  {
   "cell_type": "code",
   "execution_count": null,
   "id": "d5cb7cb6-ced9-4033-8b8f-5abd1e242cab",
   "metadata": {},
   "outputs": [],
   "source": [
    "# sky\n",
    "sky_map = jnp.load(\"ulsa.npy\")\n",
    "ix = -6\n",
    "projview(m=sky_map[ix], title=f\"ULSA sky at {freq[ix]} MHz\")\n",
    "plt.show()"
   ]
  },
  {
   "cell_type": "code",
   "execution_count": null,
   "id": "91f2b69f-103c-4471-86de-711448abb1d0",
   "metadata": {},
   "outputs": [],
   "source": [
    "# define the map2alm transform for the sky\n",
    "nside = get_nside(sky_map[0])\n",
    "sky2alm = partial(s2fft.forward_jax, L=lmax+1, spin=0, nside=nside, sampling=\"healpix\", reality=True)\n",
    "sky_alm = jax.vmap(sky2alm)(sky_map)"
   ]
  },
  {
   "cell_type": "code",
   "execution_count": null,
   "id": "fdf352d3-b46a-4477-ad14-799e2f970ed5",
   "metadata": {},
   "outputs": [],
   "source": [
    "# coordinate transform\n",
    "print(crojax.alm.is_real(beam_alm))\n",
    "print(crojax.alm.is_real(sky_alm))\n",
    "beam_alm = jax.vmap(topo2mcmf)(beam_alm)\n",
    "sky_alm = jax.vmap(gal2mcmf)(sky_alm)\n",
    "print(crojax.alm.is_real(beam_alm))\n",
    "print(crojax.alm.is_real(sky_alm))"
   ]
  },
  {
   "cell_type": "code",
   "execution_count": null,
   "id": "a2d74274-ac7b-49c5-83b3-e3d2f87432d8",
   "metadata": {},
   "outputs": [],
   "source": [
    "# beam and sky as seen by simulator after transformed back to healpix\n",
    "beam_reconstructed = s2fft.inverse_jax(beam_alm[ix], L=lmax+1, spin=0, nside=nside, sampling=\"healpix\", reality=True)\n",
    "sky_reconstructed = s2fft.inverse_jax(sky_alm[ix], L=lmax+1, spin=0, nside=nside, sampling=\"healpix\", reality=True).real\n",
    "\n",
    "projview(m=beam_reconstructed.real, title=f\"Reconstructed beam at {freq[ix]} MHz\")\n",
    "projview(m=sky_reconstructed, title=f\"Reconstructed sky at {freq[ix]} MHz\")\n",
    "plt.show()"
   ]
  },
  {
   "cell_type": "code",
   "execution_count": null,
   "id": "0c1a8329-b180-4a52-852f-72149c7adca3",
   "metadata": {},
   "outputs": [],
   "source": [
    "vis = crojax.simulator.convolve(beam_alm, sky_alm, phases).real / norm"
   ]
  },
  {
   "cell_type": "code",
   "execution_count": null,
   "id": "fdb085d4-2fad-4bc4-a95d-45e55fda095e",
   "metadata": {},
   "outputs": [],
   "source": [
    "plt.figure()\n",
    "plt.plot(freq, jnp.mean(sky_map, axis=-1))\n",
    "plt.plot(freq, jnp.mean(sky_map, axis=-1)[0] * (freq/freq.min())**(-2.5))\n",
    "plt.yscale(\"log\")\n",
    "plt.show()"
   ]
  },
  {
   "cell_type": "code",
   "execution_count": null,
   "id": "25e7ec10-c915-4fee-b528-3e5b784583ce",
   "metadata": {},
   "outputs": [],
   "source": [
    "plt.figure()\n",
    "plt.imshow(jnp.log(vis), aspect=\"auto\")\n",
    "plt.colorbar()\n",
    "plt.show()"
   ]
  },
  {
   "cell_type": "code",
   "execution_count": null,
   "id": "dcab37f2-8d91-497e-bbca-b180eac12097",
   "metadata": {},
   "outputs": [],
   "source": [
    "plt.figure()\n",
    "plt.plot(freq, vis[150])\n",
    "plt.yscale(\"log\")\n",
    "plt.show()"
   ]
  }
 ],
 "metadata": {
  "kernelspec": {
   "display_name": "Python 3 (ipykernel)",
   "language": "python",
   "name": "python3"
  },
  "language_info": {
   "codemirror_mode": {
    "name": "ipython",
    "version": 3
   },
   "file_extension": ".py",
   "mimetype": "text/x-python",
   "name": "python",
   "nbconvert_exporter": "python",
   "pygments_lexer": "ipython3",
   "version": "3.10.12"
  }
 },
 "nbformat": 4,
 "nbformat_minor": 5
}
