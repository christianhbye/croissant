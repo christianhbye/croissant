{
 "cells": [
  {
   "cell_type": "markdown",
   "id": "cc081d3a",
   "metadata": {},
   "source": [
    "In this notebook we will test whether Croissant recovers the sky temperature for some simple analytic beams with no horizon."
   ]
  },
  {
   "cell_type": "code",
   "execution_count": null,
   "id": "6a05778f",
   "metadata": {},
   "outputs": [],
   "source": [
    "import croissant as cro\n",
    "\n",
    "from astropy.units import s as seconds\n",
    "import healpy as hp\n",
    "from lunarsky import Time\n",
    "import matplotlib.pyplot as plt\n",
    "import numpy as np"
   ]
  },
  {
   "cell_type": "code",
   "execution_count": null,
   "id": "6d25d25a",
   "metadata": {},
   "outputs": [],
   "source": [
    "freq = np.linspace(40, 80, 41)\n",
    "lmax = 32\n",
    "nside = 64\n",
    "sky = cro.Sky.gsm(freq, lmax=lmax)\n",
    "hp.mollview(sky.hp_map(nside)[0], title=f\"Sky at {freq[0]:.0f} MHz\")"
   ]
  },
  {
   "cell_type": "markdown",
   "id": "5c8056a7",
   "metadata": {},
   "source": [
    "## Uniform beam"
   ]
  },
  {
   "cell_type": "code",
   "execution_count": null,
   "id": "0a717d38",
   "metadata": {},
   "outputs": [],
   "source": [
    "beam_alm = np.zeros((freq.size, hp.Alm.getsize(lmax)))\n",
    "beam = cro.Beam(beam_alm, lmax=lmax, frequencies=freq, coord=\"T\")\n",
    "\n",
    "# set (l=0, m=0) and (l=1, m=0) mode\n",
    "beam[:, 0, 0] = 1\n",
    "hp.mollview(beam.hp_map(nside)[0], title=f\"Beam at {freq[0]:.0f} MHz\")"
   ]
  },
  {
   "cell_type": "code",
   "execution_count": null,
   "id": "f1b2f6a5",
   "metadata": {},
   "outputs": [],
   "source": [
    "# full sidereal day on the earth\n",
    "loc = (122.27, 37.87)\n",
    "t_start = Time(\"2022-06-02 15:43:43\")\n",
    "t_end = t_start + cro.constants.sidereal_day_earth * seconds\n",
    "sim = cro.Simulator(beam, sky, loc, t_start, world=\"earth\", t_end=t_end, N_times=300, lmax=lmax)"
   ]
  },
  {
   "cell_type": "code",
   "execution_count": null,
   "id": "d521d17d",
   "metadata": {},
   "outputs": [],
   "source": [
    "sim.run(dpss=False)\n",
    "sim.plot()"
   ]
  },
  {
   "cell_type": "markdown",
   "id": "92220faf",
   "metadata": {},
   "source": [
    "With a uniform beam we should simply recover the mean sky temperature. In the language of spherical harmonics, the mean sky temperature is given by\n",
    "$$<T_{\\rm sky}> = a_{00} Y_0^0,$$ i.e. the (0,0)-mode of the spherical harmonics decomposition."
   ]
  },
  {
   "cell_type": "code",
   "execution_count": null,
   "id": "6eb45bc1",
   "metadata": {},
   "outputs": [],
   "source": [
    "# there's no time dependence for the uniform beam\n",
    "np.allclose(sim.waterfall, sim.waterfall[0])"
   ]
  },
  {
   "cell_type": "code",
   "execution_count": null,
   "id": "26e9b2a7",
   "metadata": {},
   "outputs": [],
   "source": [
    "mean_sky = sim.sky[:, 0, 0].real * cro.constants.Y00  # a00 Y00\n",
    "\n",
    "fig, axs = plt.subplots(figsize=(12, 7), nrows=2, sharex=True)\n",
    "axs[0].plot(sim.frequencies, sim.waterfall[0], label=\"Visibility\")\n",
    "axs[0].plot(sky.frequencies, mean_sky, ls=\"--\", label=\"Mean sky temperature\")\n",
    "axs[0].set_ylabel(\"Temperature [K]\")\n",
    "axs[0].legend()\n",
    "axs[1].plot(sim.frequencies, (sim.waterfall[0] - mean_sky) / sim.waterfall[0] * 100)\n",
    "axs[1].set_ylabel(\"Fractional Residuals [%]\")\n",
    "axs[1].set_xlabel(\"Frequency [MHz]\")\n",
    "plt.setp(axs, xlim=(sim.frequencies.min(), sim.frequencies.max()))\n",
    "plt.tight_layout()\n",
    "plt.show()"
   ]
  },
  {
   "cell_type": "code",
   "execution_count": null,
   "id": "cd80b68b",
   "metadata": {},
   "outputs": [],
   "source": [
    "# we get the same result on the moon\n",
    "t_end_moon = t_start + cro.constants.sidereal_day_moon * seconds\n",
    "sim_moon = cro.Simulator(beam, sky, loc, t_start, world=\"moon\", t_end=t_end_moon, N_times=300, lmax=lmax)\n",
    "sim_moon.run(dpss=False)\n",
    "np.allclose(sim.waterfall, sim_moon.waterfall)"
   ]
  },
  {
   "cell_type": "markdown",
   "id": "78c1d401",
   "metadata": {},
   "source": [
    "## Dipole beam"
   ]
  },
  {
   "cell_type": "code",
   "execution_count": null,
   "id": "a8767d59",
   "metadata": {},
   "outputs": [],
   "source": [
    "beam_alm = np.zeros((freq.size, hp.Alm.getsize(lmax)))\n",
    "beam = cro.Beam(beam_alm, lmax=lmax, frequencies=freq, coord=\"C\")\n",
    "beam[:, 0, 0] = 30 * (freq/freq[0]) ** 2\n",
    "beam[:, 1, 0] = 10 * (freq/freq[0])**2\n",
    "hp.mollview(beam.hp_map(nside)[0], title=f\"Beam at {freq[0]:.0f} MHz\")"
   ]
  },
  {
   "cell_type": "code",
   "execution_count": null,
   "id": "e91656ed",
   "metadata": {},
   "outputs": [],
   "source": [
    "# run the simulation with all the same parameters\n",
    "sim = cro.Simulator(beam, sky, loc, t_start, world=\"earth\", t_end=t_end, N_times=300, lmax=lmax)"
   ]
  },
  {
   "cell_type": "code",
   "execution_count": null,
   "id": "c95beda8",
   "metadata": {},
   "outputs": [],
   "source": [
    "sim.run(dpss=False)\n",
    "sim.plot()"
   ]
  },
  {
   "cell_type": "markdown",
   "id": "e6711a5f",
   "metadata": {},
   "source": [
    "A dipole beam should pick out the (0, 0) and (1, 0) modes of the sky. These are symmetric about the rotation axis of earth, hence there should be no time dependence."
   ]
  },
  {
   "cell_type": "code",
   "execution_count": null,
   "id": "c9611770",
   "metadata": {},
   "outputs": [],
   "source": [
    "np.allclose(sim.waterfall[0], sim.waterfall)  # no change with time"
   ]
  },
  {
   "cell_type": "code",
   "execution_count": null,
   "id": "76072019",
   "metadata": {},
   "outputs": [],
   "source": [
    "# the visibility is the mean sky temperature (as before) + the dipole contribution\n",
    "dipole_sky = sim.sky[:, 1, 0].real * sim.beam[:, 1, 0].real  # perceived sky, dot product between sky and beam\n",
    "dipole_sky /= sim.beam.total_power  # normalized by beam power\n",
    "\n",
    "fig, axs = plt.subplots(figsize=(12, 7), nrows=2, sharex=True)\n",
    "axs[0].plot(sim.frequencies, sim.waterfall[0], label=\"Visibility\")\n",
    "axs[0].plot(sky.frequencies, mean_sky + dipole_sky, ls=\"--\", label=\"Mean + dipole sky temperature\")\n",
    "axs[0].set_ylabel(\"Temperature [K]\")\n",
    "axs[0].legend()\n",
    "axs[1].plot(sim.frequencies, (sim.waterfall[0] - (mean_sky + dipole_sky)) / sim.waterfall[0] * 100)\n",
    "axs[1].set_ylabel(\"Fractional Residuals [%]\")\n",
    "axs[1].set_xlabel(\"Frequency [MHz]\")\n",
    "plt.setp(axs, xlim=(sim.frequencies.min(), sim.frequencies.max()))\n",
    "plt.tight_layout()\n",
    "plt.show()"
   ]
  },
  {
   "cell_type": "code",
   "execution_count": null,
   "id": "b345cf16",
   "metadata": {},
   "outputs": [],
   "source": [
    "np.allclose(sim.waterfall[0], mean_sky + dipole_sky)"
   ]
  }
 ],
 "metadata": {
  "kernelspec": {
   "display_name": "Python 3 (ipykernel)",
   "language": "python",
   "name": "python3"
  },
  "language_info": {
   "codemirror_mode": {
    "name": "ipython",
    "version": 3
   },
   "file_extension": ".py",
   "mimetype": "text/x-python",
   "name": "python",
   "nbconvert_exporter": "python",
   "pygments_lexer": "ipython3",
   "version": "3.10.6"
  }
 },
 "nbformat": 4,
 "nbformat_minor": 5
}
