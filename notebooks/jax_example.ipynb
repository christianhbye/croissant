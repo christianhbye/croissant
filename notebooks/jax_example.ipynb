{
 "cells": [
  {
   "cell_type": "code",
   "execution_count": 1,
   "id": "6a05778f",
   "metadata": {},
   "outputs": [],
   "source": [
    "import jax\n",
    "import jax.numpy as jnp\n",
    "jax.config.update(\"jax_enable_x64\", True)\n",
    "import matplotlib.pyplot as plt\n",
    "%matplotlib inline\n",
    "import s2fft\n",
    "from croissant import crojax"
   ]
  },
  {
   "cell_type": "code",
   "execution_count": 2,
   "id": "2348797a",
   "metadata": {},
   "outputs": [
    {
     "name": "stderr",
     "output_type": "stream",
     "text": [
      "No GPU/TPU found, falling back to CPU. (Set TF_CPP_MIN_LOG_LEVEL=0 and rerun for more info.)\n"
     ]
    },
    {
     "name": "stdout",
     "output_type": "stream",
     "text": [
      "True\n",
      "(41, 129, 257)\n"
     ]
    },
    {
     "data": {
      "image/png": "[encoded data removed]",
      "text/plain": [
       "<Figure size 640x480 with 2 Axes>"
      ]
     },
     "metadata": {},
     "output_type": "display_data"
    }
   ],
   "source": [
    "# simple beam in topocentric coordinates\n",
    "lmax = 128\n",
    "freq = jnp.linspace(40, 80, 41)\n",
    "beam = crojax.Beam.zeros(lmax, frequencies=freq, coord=\"T\")\n",
    "\n",
    "# set (l=0, m=0) and (l=1, m=0) mode\n",
    "beam[:, 0, 0] = 30 * (freq/freq[0]) ** 2\n",
    "beam[:, 1, 0] = 10 * (freq/freq[0])**2\n",
    "print(beam.is_real)\n",
    "\n",
    "# visualize\n",
    "nside = None\n",
    "sampling = \"mw\"  # mw, mwss, dh, healpix\n",
    "if sampling == \"healpix\":\n",
    "    nside = 2 * lmax\n",
    "hpm = beam.alm2map(sampling=sampling, nside=nside, frequencies=freq)\n",
    "print(hpm.shape)\n",
    "if sampling == \"healpix\":\n",
    "    import healpy\n",
    "    healpy.mollview(hpm[0])\n",
    "else:\n",
    "    plt.figure()\n",
    "    plt.imshow(hpm[0], aspect=\"auto\")\n",
    "    plt.colorbar()\n",
    "    plt.show()"
   ]
  },
  {
   "cell_type": "code",
   "execution_count": 3,
   "id": "bd23f9db-6922-4364-a6bc-83aa23cb5232",
   "metadata": {},
   "outputs": [],
   "source": [
    "# plotting functions\n",
    "# precompute ..."
   ]
  },
  {
   "cell_type": "code",
   "execution_count": 4,
   "id": "3be26219",
   "metadata": {},
   "outputs": [
    {
     "ename": "NameError",
     "evalue": "name 'partial' is not defined",
     "output_type": "error",
     "traceback": [
      "\u001b[0;31m---------------------------------------------------------------------------\u001b[0m",
      "\u001b[0;31mNameError\u001b[0m                                 Traceback (most recent call last)",
      "Cell \u001b[0;32mIn[4], line 2\u001b[0m\n\u001b[1;32m      1\u001b[0m \u001b[38;5;66;03m# we can impose a horizon like this, note that the sharp edge creates ripples since we don't have an inifinite lmax\u001b[39;00m\n\u001b[0;32m----> 2\u001b[0m \u001b[43mbeam\u001b[49m\u001b[38;5;241;43m.\u001b[39;49m\u001b[43mhorizon_cut\u001b[49m\u001b[43m(\u001b[49m\u001b[43m)\u001b[49m\n\u001b[1;32m      3\u001b[0m \u001b[38;5;66;03m#hp.mollview(beam.hp_map(nside)[0], title=f\"Beam at {freq[0]:.0f} MHz\")\u001b[39;00m\n",
      "File \u001b[0;32m~/Documents/projects/croissant/.venv/lib/python3.10/site-packages/croissant/crojax/beam.py:59\u001b[0m, in \u001b[0;36mBeam.horizon_cut\u001b[0;34m(self, horizon, sampling, nside)\u001b[0m\n\u001b[1;32m     55\u001b[0m     horizon\u001b[38;5;241m.\u001b[39mat[:, theta \u001b[38;5;241m>\u001b[39m jnp\u001b[38;5;241m.\u001b[39mpi \u001b[38;5;241m/\u001b[39m \u001b[38;5;241m2\u001b[39m]\u001b[38;5;241m.\u001b[39mset(\u001b[38;5;241m0.0\u001b[39m)\n\u001b[1;32m     57\u001b[0m m \u001b[38;5;241m=\u001b[39m m \u001b[38;5;241m*\u001b[39m horizon\n\u001b[1;32m     58\u001b[0m \u001b[38;5;28mself\u001b[39m\u001b[38;5;241m.\u001b[39malm \u001b[38;5;241m=\u001b[39m jax\u001b[38;5;241m.\u001b[39mvmap(\n\u001b[0;32m---> 59\u001b[0m     \u001b[43mpartial\u001b[49m(\n\u001b[1;32m     60\u001b[0m         s2fft\u001b[38;5;241m.\u001b[39mforward_jax,\n\u001b[1;32m     61\u001b[0m         L\u001b[38;5;241m=\u001b[39m\u001b[38;5;28mself\u001b[39m\u001b[38;5;241m.\u001b[39mlmax \u001b[38;5;241m+\u001b[39m \u001b[38;5;241m1\u001b[39m,\n\u001b[1;32m     62\u001b[0m         spin\u001b[38;5;241m=\u001b[39m\u001b[38;5;241m0\u001b[39m,\n\u001b[1;32m     63\u001b[0m         nside\u001b[38;5;241m=\u001b[39mnside,\n\u001b[1;32m     64\u001b[0m         reality\u001b[38;5;241m=\u001b[39m\u001b[38;5;28mself\u001b[39m\u001b[38;5;241m.\u001b[39mis_real,\n\u001b[1;32m     65\u001b[0m         precomps\u001b[38;5;241m=\u001b[39m\u001b[38;5;28;01mNone\u001b[39;00m,\n\u001b[1;32m     66\u001b[0m         spmd\u001b[38;5;241m=\u001b[39m\u001b[38;5;28;01mFalse\u001b[39;00m,\n\u001b[1;32m     67\u001b[0m         L_lower\u001b[38;5;241m=\u001b[39m\u001b[38;5;241m0\u001b[39m,\n\u001b[1;32m     68\u001b[0m     )\n\u001b[1;32m     69\u001b[0m )(m)\n",
      "\u001b[0;31mNameError\u001b[0m: name 'partial' is not defined"
     ]
    }
   ],
   "source": [
    "# we can impose a horizon like this, note that the sharp edge creates ripples since we don't have an inifinite lmax\n",
    "beam.horizon_cut()\n",
    "#hp.mollview(beam.hp_map(nside)[0], title=f\"Beam at {freq[0]:.0f} MHz\")"
   ]
  },
  {
   "cell_type": "markdown",
   "id": "a5f791e5",
   "metadata": {},
   "source": [
    "We use the Global Sky Model (Zheng et al 2016) at 25 MHz as the sky model. It has a built-in interface in the sky module of croissant."
   ]
  },
  {
   "cell_type": "code",
   "execution_count": null,
   "id": "6d25d25a",
   "metadata": {},
   "outputs": [],
   "source": [
    "sky = cro.Sky.gsm(beam.frequencies, lmax=beam.lmax)\n",
    "hp.mollview(sky.hp_map(nside)[0], title=f\"Sky at {freq[0]:.0f} MHz\")"
   ]
  },
  {
   "cell_type": "code",
   "execution_count": null,
   "id": "9a5e0c5e",
   "metadata": {},
   "outputs": [],
   "source": [
    "plt.figure()\n",
    "plt.plot(sky.frequencies, np.real(sky[:, 0, 0]), label=\"Sky monopole spectrum\")\n",
    "plt.xlabel(\"Frequency [MHz]\")\n",
    "plt.ylabel(\"Temperature [K]\")\n",
    "plt.xlim(sky.frequencies.min(), sky.frequencies.max())\n",
    "plt.legend()\n",
    "plt.show()"
   ]
  },
  {
   "cell_type": "code",
   "execution_count": null,
   "id": "10ca4c8e",
   "metadata": {},
   "outputs": [],
   "source": [
    "# let's do a full sidereal day on the moon\n",
    "loc = (20., -10.)\n",
    "t_start = Time(\"2022-06-02 15:43:43\")\n",
    "t_end = t_start + cro.constants.sidereal_day_moon * seconds\n",
    "sim = cro.Simulator(beam, sky, loc, t_start, world=\"moon\", t_end=t_end, N_times=300, lmax=lmax)"
   ]
  },
  {
   "cell_type": "code",
   "execution_count": null,
   "id": "a077a8e9",
   "metadata": {},
   "outputs": [],
   "source": [
    "# the simulator view of the beam and sky after moving to MCMF coordinates\n",
    "hp.mollview(sim.beam.hp_map(nside)[0], title=f\"Beam at {freq[0]:.0f} MHz\")\n",
    "hp.mollview(sim.sky.hp_map(nside)[0], title=f\"Sky at {freq[0]:.0f} MHz\")"
   ]
  },
  {
   "cell_type": "markdown",
   "id": "d991be35",
   "metadata": {},
   "source": [
    "Run the simulator!"
   ]
  },
  {
   "cell_type": "code",
   "execution_count": null,
   "id": "394a8fe8",
   "metadata": {},
   "outputs": [],
   "source": [
    "# dpss mode\n",
    "sim.run(dpss=True, nterms=40)\n",
    "sim.plot(power=2.5)"
   ]
  },
  {
   "cell_type": "code",
   "execution_count": null,
   "id": "9e0b5493",
   "metadata": {},
   "outputs": [],
   "source": [
    "sim.run(dpss=False)\n",
    "sim.plot(power=2.5)"
   ]
  },
  {
   "cell_type": "code",
   "execution_count": null,
   "id": "79fb8cac",
   "metadata": {},
   "outputs": [],
   "source": [
    "plt.figure()\n",
    "plt.plot(sim.frequencies, sim.waterfall[::10].T, ls=\"--\")\n",
    "plt.xlim(sim.frequencies.min(), sim.frequencies.max())\n",
    "plt.xlabel(\"$\\\\nu$ [MHz]\")\n",
    "plt.ylabel(\"Temperature [K]\")\n",
    "plt.grid()\n",
    "plt.show()"
   ]
  },
  {
   "cell_type": "code",
   "execution_count": null,
   "id": "65f0df23",
   "metadata": {},
   "outputs": [],
   "source": [
    "# Temp vs time\n",
    "fig, axs = plt.subplots(figsize=(13,5), ncols=5, sharex=True, sharey=True)\n",
    "for i, f in enumerate(sim.frequencies[::10]):\n",
    "    ax = axs.ravel()[i]\n",
    "    fidx = np.argwhere(sim.frequencies == f)[0, 0]\n",
    "    ax.plot(sim.waterfall[:, fidx] * f**2.5)\n",
    "    ax.set_title(f\"{f} MHz\")\n",
    "    ax.grid()\n",
    "plt.tight_layout()\n",
    "plt.show()"
   ]
  },
  {
   "cell_type": "markdown",
   "id": "ada1730d",
   "metadata": {},
   "source": [
    "# On Earth"
   ]
  },
  {
   "cell_type": "code",
   "execution_count": null,
   "id": "3e2b917b",
   "metadata": {},
   "outputs": [],
   "source": [
    "loc = (20., -10.)\n",
    "t_start = Time(\"2022-06-02 15:43:43\")\n",
    "t_end = t_start + cro.constants.sidereal_day_earth * seconds\n",
    "sim = cro.Simulator(beam, sky, loc, t_start, world=\"earth\", t_end=t_end, N_times=300, lmax=lmax)"
   ]
  },
  {
   "cell_type": "code",
   "execution_count": null,
   "id": "ef176681",
   "metadata": {},
   "outputs": [],
   "source": [
    "# the simulator view of the beam and sky after moving to equatorial coordinates\n",
    "hp.mollview(sim.beam.hp_map(nside)[0], title=f\"Beam at {freq[0]:.0f} MHz\")\n",
    "hp.mollview(sim.sky.hp_map(nside)[0], title=f\"Sky at {freq[0]:.0f} MHz\")"
   ]
  },
  {
   "cell_type": "code",
   "execution_count": null,
   "id": "d521d17d",
   "metadata": {},
   "outputs": [],
   "source": [
    "# dpss mode\n",
    "sim.run(dpss=True, nterms=40)\n",
    "sim.plot(power=2.5)"
   ]
  },
  {
   "cell_type": "code",
   "execution_count": null,
   "id": "f08c3db8",
   "metadata": {},
   "outputs": [],
   "source": [
    "# Temp vs time\n",
    "fig, axs = plt.subplots(figsize=(13,5), ncols=5, sharex=True, sharey=True)\n",
    "for i, f in enumerate(sim.frequencies[::10]):\n",
    "    ax = axs.ravel()[i]\n",
    "    fidx = np.argwhere(sim.frequencies == f)[0, 0]\n",
    "    ax.plot(sim.waterfall[:, fidx] * f**2.5)\n",
    "    ax.set_title(f\"{f} MHz\")\n",
    "    ax.grid()\n",
    "plt.tight_layout()\n",
    "plt.show()"
   ]
  }
 ],
 "metadata": {
  "kernelspec": {
   "display_name": "Python 3 (ipykernel)",
   "language": "python",
   "name": "python3"
  },
  "language_info": {
   "codemirror_mode": {
    "name": "ipython",
    "version": 3
   },
   "file_extension": ".py",
   "mimetype": "text/x-python",
   "name": "python",
   "nbconvert_exporter": "python",
   "pygments_lexer": "ipython3",
   "version": "3.10.12"
  }
 },
 "nbformat": 4,
 "nbformat_minor": 5
}
